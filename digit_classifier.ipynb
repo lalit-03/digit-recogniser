{
 "cells": [
  {
   "cell_type": "code",
   "execution_count": 1,
   "metadata": {},
   "outputs": [],
   "source": [
    "import pandas as pd\n",
    "import numpy as np\n",
    "import matplotlib.pyplot as plt\n",
    "from keras.datasets import mnist\n",
    "from sklearn import metrics\n",
    "from keras.models import Sequential\n",
    "from keras.optimizers import SGD\n",
    "from keras.utils import to_categorical\n",
    "from keras.regularizers import l2\n",
    "from keras.layers import Dense, Activation, Flatten, Dropout"
   ]
  },
  {
   "cell_type": "code",
   "execution_count": 2,
   "metadata": {},
   "outputs": [],
   "source": [
    "(X_train, y_train), (X_test, y_test) = mnist.load_data()"
   ]
  },
  {
   "cell_type": "code",
   "execution_count": 3,
   "metadata": {},
   "outputs": [
    {
     "data": {
      "text/plain": [
       "((60000, 28, 28), (60000,))"
      ]
     },
     "execution_count": 3,
     "metadata": {},
     "output_type": "execute_result"
    }
   ],
   "source": [
    "X_train.shape, y_train.shape"
   ]
  },
  {
   "cell_type": "code",
   "execution_count": 4,
   "metadata": {},
   "outputs": [
    {
     "data": {
      "image/png": "[encoded data removed]",
      "text/plain": [
       "<Figure size 432x288 with 1 Axes>"
      ]
     },
     "metadata": {
      "needs_background": "light"
     },
     "output_type": "display_data"
    },
    {
     "data": {
      "image/png": "[encoded data removed]",
      "text/plain": [
       "<Figure size 432x288 with 1 Axes>"
      ]
     },
     "metadata": {
      "needs_background": "light"
     },
     "output_type": "display_data"
    },
    {
     "data": {
      "image/png": "[encoded data removed]",
      "text/plain": [
       "<Figure size 432x288 with 1 Axes>"
      ]
     },
     "metadata": {
      "needs_background": "light"
     },
     "output_type": "display_data"
    },
    {
     "data": {
      "image/png": "[encoded data removed]",
      "text/plain": [
       "<Figure size 432x288 with 1 Axes>"
      ]
     },
     "metadata": {
      "needs_background": "light"
     },
     "output_type": "display_data"
    },
    {
     "data": {
      "image/png": "[encoded data removed]",
      "text/plain": [
       "<Figure size 432x288 with 1 Axes>"
      ]
     },
     "metadata": {
      "needs_background": "light"
     },
     "output_type": "display_data"
    }
   ],
   "source": [
    "for i in range(5):\n",
    "    img = X_train[i]\n",
    "    plt.imshow(img, cmap=\"Greys\")\n",
    "    plt.show()"
   ]
  },
  {
   "cell_type": "code",
   "execution_count": 5,
   "metadata": {},
   "outputs": [
    {
     "data": {
      "text/plain": [
       "array([[[0., 0., 0., ..., 0., 0., 0.],\n",
       "        [0., 0., 0., ..., 0., 0., 0.],\n",
       "        [0., 0., 0., ..., 0., 0., 0.],\n",
       "        ...,\n",
       "        [0., 0., 0., ..., 0., 0., 0.],\n",
       "        [0., 0., 0., ..., 0., 0., 0.],\n",
       "        [0., 0., 0., ..., 0., 0., 0.]],\n",
       "\n",
       "       [[0., 0., 0., ..., 0., 0., 0.],\n",
       "        [0., 0., 0., ..., 0., 0., 0.],\n",
       "        [0., 0., 0., ..., 0., 0., 0.],\n",
       "        ...,\n",
       "        [0., 0., 0., ..., 0., 0., 0.],\n",
       "        [0., 0., 0., ..., 0., 0., 0.],\n",
       "        [0., 0., 0., ..., 0., 0., 0.]],\n",
       "\n",
       "       [[0., 0., 0., ..., 0., 0., 0.],\n",
       "        [0., 0., 0., ..., 0., 0., 0.],\n",
       "        [0., 0., 0., ..., 0., 0., 0.],\n",
       "        ...,\n",
       "        [0., 0., 0., ..., 0., 0., 0.],\n",
       "        [0., 0., 0., ..., 0., 0., 0.],\n",
       "        [0., 0., 0., ..., 0., 0., 0.]],\n",
       "\n",
       "       ...,\n",
       "\n",
       "       [[0., 0., 0., ..., 0., 0., 0.],\n",
       "        [0., 0., 0., ..., 0., 0., 0.],\n",
       "        [0., 0., 0., ..., 0., 0., 0.],\n",
       "        ...,\n",
       "        [0., 0., 0., ..., 0., 0., 0.],\n",
       "        [0., 0., 0., ..., 0., 0., 0.],\n",
       "        [0., 0., 0., ..., 0., 0., 0.]],\n",
       "\n",
       "       [[0., 0., 0., ..., 0., 0., 0.],\n",
       "        [0., 0., 0., ..., 0., 0., 0.],\n",
       "        [0., 0., 0., ..., 0., 0., 0.],\n",
       "        ...,\n",
       "        [0., 0., 0., ..., 0., 0., 0.],\n",
       "        [0., 0., 0., ..., 0., 0., 0.],\n",
       "        [0., 0., 0., ..., 0., 0., 0.]],\n",
       "\n",
       "       [[0., 0., 0., ..., 0., 0., 0.],\n",
       "        [0., 0., 0., ..., 0., 0., 0.],\n",
       "        [0., 0., 0., ..., 0., 0., 0.],\n",
       "        ...,\n",
       "        [0., 0., 0., ..., 0., 0., 0.],\n",
       "        [0., 0., 0., ..., 0., 0., 0.],\n",
       "        [0., 0., 0., ..., 0., 0., 0.]]])"
      ]
     },
     "execution_count": 5,
     "metadata": {},
     "output_type": "execute_result"
    }
   ],
   "source": [
    "X_train = X_train/255\n",
    "X_test = X_test/255\n",
    "X_train"
   ]
  },
  {
   "cell_type": "code",
   "execution_count": 6,
   "metadata": {},
   "outputs": [],
   "source": [
    "model = Sequential()\n",
    "model.add(Flatten(input_shape=(28,28)))\n",
    "model.add(Dense(256, activation='relu'))\n",
    "model.add(Dense(64, activation='relu'))\n",
    "model.add(Dense(32, activation='relu'))\n",
    "model.add(Dense(10, activation='softmax'))"
   ]
  },
  {
   "cell_type": "code",
   "execution_count": 7,
   "metadata": {},
   "outputs": [
    {
     "name": "stdout",
     "output_type": "stream",
     "text": [
      "Model: \"sequential\"\n",
      "_________________________________________________________________\n",
      " Layer (type)                Output Shape              Param #   \n",
      "=================================================================\n",
      " flatten (Flatten)           (None, 784)               0         \n",
      "                                                                 \n",
      " dense (Dense)               (None, 256)               200960    \n",
      "                                                                 \n",
      " dense_1 (Dense)             (None, 64)                16448     \n",
      "                                                                 \n",
      " dense_2 (Dense)             (None, 32)                2080      \n",
      "                                                                 \n",
      " dense_3 (Dense)             (None, 10)                330       \n",
      "                                                                 \n",
      "=================================================================\n",
      "Total params: 219,818\n",
      "Trainable params: 219,818\n",
      "Non-trainable params: 0\n",
      "_________________________________________________________________\n"
     ]
    }
   ],
   "source": [
    "model.summary()"
   ]
  },
  {
   "cell_type": "code",
   "execution_count": 8,
   "metadata": {},
   "outputs": [],
   "source": [
    "model.compile(loss='sparse_categorical_crossentropy',optimizer='Adam',metrics=['accuracy'])"
   ]
  },
  {
   "cell_type": "code",
   "execution_count": 9,
   "metadata": {
    "scrolled": true
   },
   "outputs": [
    {
     "name": "stdout",
     "output_type": "stream",
     "text": [
      "Epoch 1/20\n",
      "1313/1313 - 11s - loss: 0.2808 - accuracy: 0.9173 - val_loss: 0.1547 - val_accuracy: 0.9556 - 11s/epoch - 8ms/step\n",
      "Epoch 2/20\n",
      "1313/1313 - 8s - loss: 0.1075 - accuracy: 0.9670 - val_loss: 0.1114 - val_accuracy: 0.9671 - 8s/epoch - 6ms/step\n",
      "Epoch 3/20\n",
      "1313/1313 - 8s - loss: 0.0732 - accuracy: 0.9780 - val_loss: 0.1109 - val_accuracy: 0.9668 - 8s/epoch - 6ms/step\n",
      "Epoch 4/20\n",
      "1313/1313 - 8s - loss: 0.0553 - accuracy: 0.9824 - val_loss: 0.0969 - val_accuracy: 0.9736 - 8s/epoch - 6ms/step\n",
      "Epoch 5/20\n",
      "1313/1313 - 8s - loss: 0.0386 - accuracy: 0.9869 - val_loss: 0.1072 - val_accuracy: 0.9727 - 8s/epoch - 6ms/step\n",
      "Epoch 6/20\n",
      "1313/1313 - 8s - loss: 0.0362 - accuracy: 0.9880 - val_loss: 0.1465 - val_accuracy: 0.9630 - 8s/epoch - 6ms/step\n",
      "Epoch 7/20\n",
      "1313/1313 - 8s - loss: 0.0282 - accuracy: 0.9904 - val_loss: 0.1098 - val_accuracy: 0.9727 - 8s/epoch - 6ms/step\n",
      "Epoch 8/20\n",
      "1313/1313 - 8s - loss: 0.0220 - accuracy: 0.9931 - val_loss: 0.1056 - val_accuracy: 0.9747 - 8s/epoch - 6ms/step\n",
      "Epoch 9/20\n",
      "1313/1313 - 8s - loss: 0.0240 - accuracy: 0.9919 - val_loss: 0.1157 - val_accuracy: 0.9739 - 8s/epoch - 6ms/step\n",
      "Epoch 10/20\n",
      "1313/1313 - 9s - loss: 0.0215 - accuracy: 0.9927 - val_loss: 0.1172 - val_accuracy: 0.9744 - 9s/epoch - 7ms/step\n",
      "Epoch 11/20\n",
      "1313/1313 - 8s - loss: 0.0165 - accuracy: 0.9947 - val_loss: 0.1173 - val_accuracy: 0.9749 - 8s/epoch - 6ms/step\n",
      "Epoch 12/20\n",
      "1313/1313 - 9s - loss: 0.0146 - accuracy: 0.9956 - val_loss: 0.1249 - val_accuracy: 0.9764 - 9s/epoch - 7ms/step\n",
      "Epoch 13/20\n",
      "1313/1313 - 8s - loss: 0.0148 - accuracy: 0.9953 - val_loss: 0.1740 - val_accuracy: 0.9681 - 8s/epoch - 6ms/step\n",
      "Epoch 14/20\n",
      "1313/1313 - 8s - loss: 0.0151 - accuracy: 0.9953 - val_loss: 0.1645 - val_accuracy: 0.9689 - 8s/epoch - 6ms/step\n",
      "Epoch 15/20\n",
      "1313/1313 - 8s - loss: 0.0113 - accuracy: 0.9964 - val_loss: 0.1536 - val_accuracy: 0.9704 - 8s/epoch - 6ms/step\n",
      "Epoch 16/20\n",
      "1313/1313 - 8s - loss: 0.0155 - accuracy: 0.9950 - val_loss: 0.1368 - val_accuracy: 0.9749 - 8s/epoch - 6ms/step\n",
      "Epoch 17/20\n",
      "1313/1313 - 9s - loss: 0.0131 - accuracy: 0.9955 - val_loss: 0.1441 - val_accuracy: 0.9731 - 9s/epoch - 7ms/step\n",
      "Epoch 18/20\n",
      "1313/1313 - 9s - loss: 0.0084 - accuracy: 0.9972 - val_loss: 0.1359 - val_accuracy: 0.9763 - 9s/epoch - 7ms/step\n",
      "Epoch 19/20\n",
      "1313/1313 - 8s - loss: 0.0134 - accuracy: 0.9961 - val_loss: 0.1433 - val_accuracy: 0.9752 - 8s/epoch - 6ms/step\n",
      "Epoch 20/20\n",
      "1313/1313 - 9s - loss: 0.0104 - accuracy: 0.9971 - val_loss: 0.1475 - val_accuracy: 0.9752 - 9s/epoch - 6ms/step\n"
     ]
    }
   ],
   "source": [
    "history = model.fit(X_train,y_train,epochs=20,verbose=2, validation_split=0.3)"
   ]
  },
  {
   "cell_type": "code",
   "execution_count": 10,
   "metadata": {},
   "outputs": [
    {
     "name": "stdout",
     "output_type": "stream",
     "text": [
      "313/313 [==============================] - 1s 3ms/step\n"
     ]
    }
   ],
   "source": [
    "y_pred = model.predict(X_test)"
   ]
  },
  {
   "cell_type": "code",
   "execution_count": 11,
   "metadata": {},
   "outputs": [],
   "source": [
    "y_pred = y_pred.argmax(axis=1)"
   ]
  },
  {
   "cell_type": "code",
   "execution_count": 12,
   "metadata": {},
   "outputs": [
    {
     "data": {
      "text/plain": [
       "0.9777"
      ]
     },
     "execution_count": 12,
     "metadata": {},
     "output_type": "execute_result"
    }
   ],
   "source": [
    "metrics.accuracy_score(y_test, y_pred)"
   ]
  },
  {
   "cell_type": "code",
   "execution_count": 13,
   "metadata": {},
   "outputs": [],
   "source": [
    "model_2 = Sequential()\n",
    "model_2.add(Flatten(input_shape=(28,28)))\n",
    "model_2.add(Dense(256, activation='relu'))\n",
    "model_2.add(Dropout(0.3))\n",
    "model_2.add(Dense(64, activation='relu'))\n",
    "model_2.add(Dropout(0.3))\n",
    "model_2.add(Dense(32, activation='relu'))\n",
    "model_2.add(Dense(10, activation='softmax'))"
   ]
  },
  {
   "cell_type": "code",
   "execution_count": 14,
   "metadata": {},
   "outputs": [
    {
     "name": "stdout",
     "output_type": "stream",
     "text": [
      "Model: \"sequential_1\"\n",
      "_________________________________________________________________\n",
      " Layer (type)                Output Shape              Param #   \n",
      "=================================================================\n",
      " flatten_1 (Flatten)         (None, 784)               0         \n",
      "                                                                 \n",
      " dense_4 (Dense)             (None, 256)               200960    \n",
      "                                                                 \n",
      " dropout (Dropout)           (None, 256)               0         \n",
      "                                                                 \n",
      " dense_5 (Dense)             (None, 64)                16448     \n",
      "                                                                 \n",
      " dropout_1 (Dropout)         (None, 64)                0         \n",
      "                                                                 \n",
      " dense_6 (Dense)             (None, 32)                2080      \n",
      "                                                                 \n",
      " dense_7 (Dense)             (None, 10)                330       \n",
      "                                                                 \n",
      "=================================================================\n",
      "Total params: 219,818\n",
      "Trainable params: 219,818\n",
      "Non-trainable params: 0\n",
      "_________________________________________________________________\n"
     ]
    }
   ],
   "source": [
    "model_2.summary()"
   ]
  },
  {
   "cell_type": "code",
   "execution_count": 15,
   "metadata": {},
   "outputs": [],
   "source": [
    "model_2.compile(loss='sparse_categorical_crossentropy',optimizer='Adam',metrics=['accuracy'])"
   ]
  },
  {
   "cell_type": "code",
   "execution_count": 16,
   "metadata": {},
   "outputs": [
    {
     "name": "stdout",
     "output_type": "stream",
     "text": [
      "Epoch 1/20\n",
      "1313/1313 - 12s - loss: 0.4326 - accuracy: 0.8684 - val_loss: 0.1816 - val_accuracy: 0.9454 - 12s/epoch - 9ms/step\n",
      "Epoch 2/20\n",
      "1313/1313 - 10s - loss: 0.1972 - accuracy: 0.9431 - val_loss: 0.1282 - val_accuracy: 0.9627 - 10s/epoch - 8ms/step\n",
      "Epoch 3/20\n",
      "1313/1313 - 10s - loss: 0.1530 - accuracy: 0.9547 - val_loss: 0.1118 - val_accuracy: 0.9677 - 10s/epoch - 8ms/step\n",
      "Epoch 4/20\n",
      "1313/1313 - 10s - loss: 0.1263 - accuracy: 0.9620 - val_loss: 0.1035 - val_accuracy: 0.9713 - 10s/epoch - 8ms/step\n",
      "Epoch 5/20\n",
      "1313/1313 - 10s - loss: 0.1167 - accuracy: 0.9653 - val_loss: 0.1035 - val_accuracy: 0.9693 - 10s/epoch - 8ms/step\n",
      "Epoch 6/20\n",
      "1313/1313 - 10s - loss: 0.0992 - accuracy: 0.9700 - val_loss: 0.1035 - val_accuracy: 0.9721 - 10s/epoch - 8ms/step\n",
      "Epoch 7/20\n",
      "1313/1313 - 10s - loss: 0.0938 - accuracy: 0.9726 - val_loss: 0.1034 - val_accuracy: 0.9719 - 10s/epoch - 8ms/step\n",
      "Epoch 8/20\n",
      "1313/1313 - 10s - loss: 0.0872 - accuracy: 0.9739 - val_loss: 0.0953 - val_accuracy: 0.9722 - 10s/epoch - 8ms/step\n",
      "Epoch 9/20\n",
      "1313/1313 - 10s - loss: 0.0780 - accuracy: 0.9776 - val_loss: 0.0927 - val_accuracy: 0.9746 - 10s/epoch - 8ms/step\n",
      "Epoch 10/20\n",
      "1313/1313 - 10s - loss: 0.0768 - accuracy: 0.9773 - val_loss: 0.0944 - val_accuracy: 0.9744 - 10s/epoch - 8ms/step\n",
      "Epoch 11/20\n",
      "1313/1313 - 10s - loss: 0.0685 - accuracy: 0.9788 - val_loss: 0.0923 - val_accuracy: 0.9762 - 10s/epoch - 8ms/step\n",
      "Epoch 12/20\n",
      "1313/1313 - 10s - loss: 0.0673 - accuracy: 0.9787 - val_loss: 0.0957 - val_accuracy: 0.9755 - 10s/epoch - 8ms/step\n",
      "Epoch 13/20\n",
      "1313/1313 - 10s - loss: 0.0640 - accuracy: 0.9803 - val_loss: 0.0914 - val_accuracy: 0.9758 - 10s/epoch - 8ms/step\n",
      "Epoch 14/20\n",
      "1313/1313 - 10s - loss: 0.0587 - accuracy: 0.9814 - val_loss: 0.0986 - val_accuracy: 0.9761 - 10s/epoch - 8ms/step\n",
      "Epoch 15/20\n",
      "1313/1313 - 11s - loss: 0.0554 - accuracy: 0.9828 - val_loss: 0.1037 - val_accuracy: 0.9749 - 11s/epoch - 8ms/step\n",
      "Epoch 16/20\n",
      "1313/1313 - 10s - loss: 0.0543 - accuracy: 0.9835 - val_loss: 0.1079 - val_accuracy: 0.9736 - 10s/epoch - 8ms/step\n",
      "Epoch 17/20\n",
      "1313/1313 - 10s - loss: 0.0509 - accuracy: 0.9842 - val_loss: 0.0956 - val_accuracy: 0.9761 - 10s/epoch - 8ms/step\n",
      "Epoch 18/20\n",
      "1313/1313 - 10s - loss: 0.0492 - accuracy: 0.9845 - val_loss: 0.1064 - val_accuracy: 0.9748 - 10s/epoch - 8ms/step\n",
      "Epoch 19/20\n",
      "1313/1313 - 10s - loss: 0.0480 - accuracy: 0.9848 - val_loss: 0.0967 - val_accuracy: 0.9769 - 10s/epoch - 8ms/step\n",
      "Epoch 20/20\n",
      "1313/1313 - 10s - loss: 0.0460 - accuracy: 0.9856 - val_loss: 0.0941 - val_accuracy: 0.9777 - 10s/epoch - 8ms/step\n"
     ]
    }
   ],
   "source": [
    "history_2 = model_2.fit(X_train,y_train,epochs=20,verbose=2, validation_split=0.3)"
   ]
  },
  {
   "cell_type": "code",
   "execution_count": 17,
   "metadata": {},
   "outputs": [
    {
     "name": "stdout",
     "output_type": "stream",
     "text": [
      "313/313 [==============================] - 1s 3ms/step\n"
     ]
    },
    {
     "data": {
      "text/plain": [
       "0.9791"
      ]
     },
     "execution_count": 17,
     "metadata": {},
     "output_type": "execute_result"
    }
   ],
   "source": [
    "y_pred2 = model_2.predict(X_test)\n",
    "y_pred2 = y_pred2.argmax(axis=1)\n",
    "metrics.accuracy_score(y_test, y_pred2)"
   ]
  },
  {
   "cell_type": "code",
   "execution_count": 18,
   "metadata": {
    "scrolled": true
   },
   "outputs": [
    {
     "data": {
      "text/plain": [
       "<matplotlib.legend.Legend at 0x23d5a4e21c0>"
      ]
     },
     "execution_count": 18,
     "metadata": {},
     "output_type": "execute_result"
    },
    {
     "data": {
      "image/png": "[encoded data removed]",
      "text/plain": [
       "<Figure size 432x288 with 1 Axes>"
      ]
     },
     "metadata": {
      "needs_background": "light"
     },
     "output_type": "display_data"
    }
   ],
   "source": [
    "plt.plot(history.history['accuracy'], label = 'model_1')\n",
    "plt.plot(history_2.history['accuracy'], label = 'model_2')\n",
    "plt.legend()"
   ]
  },
  {
   "cell_type": "code",
   "execution_count": 19,
   "metadata": {},
   "outputs": [
    {
     "data": {
      "text/plain": [
       "<matplotlib.legend.Legend at 0x23d5a51edf0>"
      ]
     },
     "execution_count": 19,
     "metadata": {},
     "output_type": "execute_result"
    },
    {
     "data": {
      "image/png": "[encoded data removed]",
      "text/plain": [
       "<Figure size 432x288 with 1 Axes>"
      ]
     },
     "metadata": {
      "needs_background": "light"
     },
     "output_type": "display_data"
    }
   ],
   "source": [
    "plt.plot(history.history['val_accuracy'], label = 'model_1')\n",
    "plt.plot(history_2.history['val_accuracy'], label = 'model_2')\n",
    "plt.legend()"
   ]
  },
  {
   "cell_type": "code",
   "execution_count": 20,
   "metadata": {},
   "outputs": [
    {
     "data": {
      "text/plain": [
       "<matplotlib.legend.Legend at 0x23d5a59a580>"
      ]
     },
     "execution_count": 20,
     "metadata": {},
     "output_type": "execute_result"
    },
    {
     "data": {
      "image/png": "[encoded data removed]",
      "text/plain": [
       "<Figure size 432x288 with 1 Axes>"
      ]
     },
     "metadata": {
      "needs_background": "light"
     },
     "output_type": "display_data"
    }
   ],
   "source": [
    "plt.plot(history.history['val_loss'], label = 'model_1')\n",
    "plt.plot(history_2.history['val_loss'], label = 'model_2')\n",
    "plt.legend()"
   ]
  }
 ],
 "metadata": {
  "kernelspec": {
   "display_name": "Python 3 (ipykernel)",
   "language": "python",
   "name": "python3"
  },
  "language_info": {
   "codemirror_mode": {
    "name": "ipython",
    "version": 3
   },
   "file_extension": ".py",
   "mimetype": "text/x-python",
   "name": "python",
   "nbconvert_exporter": "python",
   "pygments_lexer": "ipython3",
   "version": "3.9.7"
  },
  "vscode": {
   "interpreter": {
    "hash": "d7288e82646d3164eca24130947288f8779d11454649f2c02a5dfc42af7f324c"
   }
  }
 },
 "nbformat": 4,
 "nbformat_minor": 2
}
